{
  "cells": [
    {
      "cell_type": "code",
      "source": [
        "from google.colab import files\n",
        "import pandas as pd\n",
        "\n",
        "# Pregunta a l'usuari que pugi un arxiu Excel\n",
        "uploaded = files.upload()\n",
        "\n",
        "# Obtenir el nom de l'arxiu pujat\n",
        "nom_arxiu = list(uploaded.keys())[0]\n",
        "\n",
        "# Carregar l'arxiu Excel a partir de la fila 14\n",
        "df = pd.read_excel(nom_arxiu, skiprows=13)"
      ],
      "metadata": {
        "colab": {
          "base_uri": "https://localhost:8080/",
          "height": 145
        },
        "id": "tEr3FAoLBp__",
        "outputId": "0095a494-c57f-4ef7-fd7d-4d2a4b7e82e7"
      },
      "execution_count": 23,
      "outputs": [
        {
          "output_type": "display_data",
          "data": {
            "text/plain": [
              "<IPython.core.display.HTML object>"
            ],
            "text/html": [
              "\n",
              "     <input type=\"file\" id=\"files-a10ac4d8-a45e-4011-b6ac-7ed9924977c7\" name=\"files[]\" multiple disabled\n",
              "        style=\"border:none\" />\n",
              "     <output id=\"result-a10ac4d8-a45e-4011-b6ac-7ed9924977c7\">\n",
              "      Upload widget is only available when the cell has been executed in the\n",
              "      current browser session. Please rerun this cell to enable.\n",
              "      </output>\n",
              "      <script>// Copyright 2017 Google LLC\n",
              "//\n",
              "// Licensed under the Apache License, Version 2.0 (the \"License\");\n",
              "// you may not use this file except in compliance with the License.\n",
              "// You may obtain a copy of the License at\n",
              "//\n",
              "//      http://www.apache.org/licenses/LICENSE-2.0\n",
              "//\n",
              "// Unless required by applicable law or agreed to in writing, software\n",
              "// distributed under the License is distributed on an \"AS IS\" BASIS,\n",
              "// WITHOUT WARRANTIES OR CONDITIONS OF ANY KIND, either express or implied.\n",
              "// See the License for the specific language governing permissions and\n",
              "// limitations under the License.\n",
              "\n",
              "/**\n",
              " * @fileoverview Helpers for google.colab Python module.\n",
              " */\n",
              "(function(scope) {\n",
              "function span(text, styleAttributes = {}) {\n",
              "  const element = document.createElement('span');\n",
              "  element.textContent = text;\n",
              "  for (const key of Object.keys(styleAttributes)) {\n",
              "    element.style[key] = styleAttributes[key];\n",
              "  }\n",
              "  return element;\n",
              "}\n",
              "\n",
              "// Max number of bytes which will be uploaded at a time.\n",
              "const MAX_PAYLOAD_SIZE = 100 * 1024;\n",
              "\n",
              "function _uploadFiles(inputId, outputId) {\n",
              "  const steps = uploadFilesStep(inputId, outputId);\n",
              "  const outputElement = document.getElementById(outputId);\n",
              "  // Cache steps on the outputElement to make it available for the next call\n",
              "  // to uploadFilesContinue from Python.\n",
              "  outputElement.steps = steps;\n",
              "\n",
              "  return _uploadFilesContinue(outputId);\n",
              "}\n",
              "\n",
              "// This is roughly an async generator (not supported in the browser yet),\n",
              "// where there are multiple asynchronous steps and the Python side is going\n",
              "// to poll for completion of each step.\n",
              "// This uses a Promise to block the python side on completion of each step,\n",
              "// then passes the result of the previous step as the input to the next step.\n",
              "function _uploadFilesContinue(outputId) {\n",
              "  const outputElement = document.getElementById(outputId);\n",
              "  const steps = outputElement.steps;\n",
              "\n",
              "  const next = steps.next(outputElement.lastPromiseValue);\n",
              "  return Promise.resolve(next.value.promise).then((value) => {\n",
              "    // Cache the last promise value to make it available to the next\n",
              "    // step of the generator.\n",
              "    outputElement.lastPromiseValue = value;\n",
              "    return next.value.response;\n",
              "  });\n",
              "}\n",
              "\n",
              "/**\n",
              " * Generator function which is called between each async step of the upload\n",
              " * process.\n",
              " * @param {string} inputId Element ID of the input file picker element.\n",
              " * @param {string} outputId Element ID of the output display.\n",
              " * @return {!Iterable<!Object>} Iterable of next steps.\n",
              " */\n",
              "function* uploadFilesStep(inputId, outputId) {\n",
              "  const inputElement = document.getElementById(inputId);\n",
              "  inputElement.disabled = false;\n",
              "\n",
              "  const outputElement = document.getElementById(outputId);\n",
              "  outputElement.innerHTML = '';\n",
              "\n",
              "  const pickedPromise = new Promise((resolve) => {\n",
              "    inputElement.addEventListener('change', (e) => {\n",
              "      resolve(e.target.files);\n",
              "    });\n",
              "  });\n",
              "\n",
              "  const cancel = document.createElement('button');\n",
              "  inputElement.parentElement.appendChild(cancel);\n",
              "  cancel.textContent = 'Cancel upload';\n",
              "  const cancelPromise = new Promise((resolve) => {\n",
              "    cancel.onclick = () => {\n",
              "      resolve(null);\n",
              "    };\n",
              "  });\n",
              "\n",
              "  // Wait for the user to pick the files.\n",
              "  const files = yield {\n",
              "    promise: Promise.race([pickedPromise, cancelPromise]),\n",
              "    response: {\n",
              "      action: 'starting',\n",
              "    }\n",
              "  };\n",
              "\n",
              "  cancel.remove();\n",
              "\n",
              "  // Disable the input element since further picks are not allowed.\n",
              "  inputElement.disabled = true;\n",
              "\n",
              "  if (!files) {\n",
              "    return {\n",
              "      response: {\n",
              "        action: 'complete',\n",
              "      }\n",
              "    };\n",
              "  }\n",
              "\n",
              "  for (const file of files) {\n",
              "    const li = document.createElement('li');\n",
              "    li.append(span(file.name, {fontWeight: 'bold'}));\n",
              "    li.append(span(\n",
              "        `(${file.type || 'n/a'}) - ${file.size} bytes, ` +\n",
              "        `last modified: ${\n",
              "            file.lastModifiedDate ? file.lastModifiedDate.toLocaleDateString() :\n",
              "                                    'n/a'} - `));\n",
              "    const percent = span('0% done');\n",
              "    li.appendChild(percent);\n",
              "\n",
              "    outputElement.appendChild(li);\n",
              "\n",
              "    const fileDataPromise = new Promise((resolve) => {\n",
              "      const reader = new FileReader();\n",
              "      reader.onload = (e) => {\n",
              "        resolve(e.target.result);\n",
              "      };\n",
              "      reader.readAsArrayBuffer(file);\n",
              "    });\n",
              "    // Wait for the data to be ready.\n",
              "    let fileData = yield {\n",
              "      promise: fileDataPromise,\n",
              "      response: {\n",
              "        action: 'continue',\n",
              "      }\n",
              "    };\n",
              "\n",
              "    // Use a chunked sending to avoid message size limits. See b/62115660.\n",
              "    let position = 0;\n",
              "    do {\n",
              "      const length = Math.min(fileData.byteLength - position, MAX_PAYLOAD_SIZE);\n",
              "      const chunk = new Uint8Array(fileData, position, length);\n",
              "      position += length;\n",
              "\n",
              "      const base64 = btoa(String.fromCharCode.apply(null, chunk));\n",
              "      yield {\n",
              "        response: {\n",
              "          action: 'append',\n",
              "          file: file.name,\n",
              "          data: base64,\n",
              "        },\n",
              "      };\n",
              "\n",
              "      let percentDone = fileData.byteLength === 0 ?\n",
              "          100 :\n",
              "          Math.round((position / fileData.byteLength) * 100);\n",
              "      percent.textContent = `${percentDone}% done`;\n",
              "\n",
              "    } while (position < fileData.byteLength);\n",
              "  }\n",
              "\n",
              "  // All done.\n",
              "  yield {\n",
              "    response: {\n",
              "      action: 'complete',\n",
              "    }\n",
              "  };\n",
              "}\n",
              "\n",
              "scope.google = scope.google || {};\n",
              "scope.google.colab = scope.google.colab || {};\n",
              "scope.google.colab._files = {\n",
              "  _uploadFiles,\n",
              "  _uploadFilesContinue,\n",
              "};\n",
              "})(self);\n",
              "</script> "
            ]
          },
          "metadata": {}
        },
        {
          "output_type": "stream",
          "name": "stdout",
          "text": [
            "Saving Inventaridedretsimmaterials-Datesdevigència (10).xlsx to Inventaridedretsimmaterials-Datesdevigència (10).xlsx\n"
          ]
        },
        {
          "output_type": "stream",
          "name": "stderr",
          "text": [
            "/usr/local/lib/python3.10/dist-packages/openpyxl/styles/stylesheet.py:226: UserWarning: Workbook contains no default style, apply openpyxl's default\n",
            "  warn(\"Workbook contains no default style, apply openpyxl's default\")\n"
          ]
        }
      ]
    },
    {
      "cell_type": "code",
      "source": [
        "# Suposem que ja has carregat el teu DataFrame df\n",
        "\n",
        "# Filtre 1: Estat = \"Alta\"\n",
        "filtre_estat = df['Estat'] == 'Alta'\n",
        "\n",
        "# Filtre 2: Catàleg = \"Marca\"\n",
        "filtre_catalog = df['Catàleg'] == 'Marca'\n",
        "\n",
        "# Filtre 3: Registre d'inscripció = \"Oficina de Propietat Intel·lectual de la Unió Europea (EUIPO)\"\n",
        "filtre_registre = df['Registre d\\'inscripció'] == 'Oficina de Propietat Intel·lectual de la Unió Europea (EUIPO)'\n",
        "\n",
        "# Aplica els filtres\n",
        "df_filtrat = df[filtre_estat & filtre_catalog & filtre_registre]\n",
        "\n",
        "# Mostra el DataFrame filtrat\n",
        "print(len(df_filtrat))"
      ],
      "metadata": {
        "id": "DfqZlCGyCAKn",
        "colab": {
          "base_uri": "https://localhost:8080/"
        },
        "outputId": "8ef72442-6677-4abe-e7b7-2815500c6b8b"
      },
      "execution_count": 24,
      "outputs": [
        {
          "output_type": "stream",
          "name": "stdout",
          "text": [
            "103\n"
          ]
        }
      ]
    },
    {
      "cell_type": "code",
      "execution_count": 25,
      "metadata": {
        "id": "owGxVGhSdDB2",
        "colab": {
          "base_uri": "https://localhost:8080/"
        },
        "outputId": "456f69e8-20e6-4c12-aced-86fca51f207f"
      },
      "outputs": [
        {
          "output_type": "stream",
          "name": "stdout",
          "text": [
            "Requirement already satisfied: xlsxwriter in /usr/local/lib/python3.10/dist-packages (3.1.9)\n"
          ]
        }
      ],
      "source": [
        "!pip install xlsxwriter"
      ]
    },
    {
      "cell_type": "code",
      "execution_count": 26,
      "metadata": {
        "id": "YjWW3KSwYxKQ",
        "colab": {
          "base_uri": "https://localhost:8080/"
        },
        "outputId": "a7bd166d-f246-4ec1-faaf-661731fad1ff"
      },
      "outputs": [
        {
          "output_type": "stream",
          "name": "stdout",
          "text": [
            "Warning: apt-key is deprecated. Manage keyring files in trusted.gpg.d instead (see apt-key(8)).\n",
            "Executing: /tmp/apt-key-gpghome.g5dsc77N6o/gpg.1.sh --keyserver keyserver.ubuntu.com --recv-keys DCC9EFBF77E11517\n",
            "gpg: key DCC9EFBF77E11517: \"Debian Stable Release Key (10/buster) <debian-release@lists.debian.org>\" not changed\n",
            "gpg: Total number processed: 1\n",
            "gpg:              unchanged: 1\n",
            "Warning: apt-key is deprecated. Manage keyring files in trusted.gpg.d instead (see apt-key(8)).\n",
            "Executing: /tmp/apt-key-gpghome.icvAQ8oALB/gpg.1.sh --keyserver keyserver.ubuntu.com --recv-keys 648ACFD622F3D138\n",
            "gpg: key DC30D7C23CBBABEE: \"Debian Archive Automatic Signing Key (10/buster) <ftpmaster@debian.org>\" not changed\n",
            "gpg: Total number processed: 1\n",
            "gpg:              unchanged: 1\n",
            "Warning: apt-key is deprecated. Manage keyring files in trusted.gpg.d instead (see apt-key(8)).\n",
            "Executing: /tmp/apt-key-gpghome.3ba8lIdR8x/gpg.1.sh --keyserver keyserver.ubuntu.com --recv-keys 112695A0E562B32A\n",
            "gpg: key 4DFAB270CAA96DFA: \"Debian Security Archive Automatic Signing Key (10/buster) <ftpmaster@debian.org>\" not changed\n",
            "gpg: Total number processed: 1\n",
            "gpg:              unchanged: 1\n",
            "gpg: cannot open '/dev/tty': No such device or address\n",
            "Warning: apt-key is deprecated. Manage keyring files in trusted.gpg.d instead (see apt-key(8)).\n",
            "gpg: [stdout]: write error: Broken pipe\n",
            "gpg: filter_flush failed on close: Broken pipe\n",
            "gpg: cannot open '/dev/tty': No such device or address\n",
            "Warning: apt-key is deprecated. Manage keyring files in trusted.gpg.d instead (see apt-key(8)).\n",
            "gpg: [stdout]: write error: Broken pipe\n",
            "gpg: filter_flush failed on close: Broken pipe\n",
            "gpg: cannot open '/dev/tty': No such device or address\n",
            "Warning: apt-key is deprecated. Manage keyring files in trusted.gpg.d instead (see apt-key(8)).\n",
            "gpg: [stdout]: write error: Broken pipe\n",
            "gpg: filter_flush failed on close: Broken pipe\n"
          ]
        },
        {
          "output_type": "execute_result",
          "data": {
            "text/plain": []
          },
          "metadata": {},
          "execution_count": 26
        }
      ],
      "source": [
        "%%shell\n",
        "\n",
        "# Add debian buster\n",
        "cat > /etc/apt/sources.list.d/debian.list <<'EOF'\n",
        "deb [arch=amd64 signed-by=/usr/share/keyrings/debian-buster.gpg] http://deb.debian.org/debian buster main\n",
        "deb [arch=amd64 signed-by=/usr/share/keyrings/debian-buster-updates.gpg] http://deb.debian.org/debian buster-updates main\n",
        "deb [arch=amd64 signed-by=/usr/share/keyrings/debian-security-buster.gpg] http://deb.debian.org/debian-security buster/updates main\n",
        "EOF\n",
        "\n",
        "# Add keys\n",
        "apt-key adv --keyserver keyserver.ubuntu.com --recv-keys DCC9EFBF77E11517\n",
        "apt-key adv --keyserver keyserver.ubuntu.com --recv-keys 648ACFD622F3D138\n",
        "apt-key adv --keyserver keyserver.ubuntu.com --recv-keys 112695A0E562B32A\n",
        "\n",
        "apt-key export 77E11517 | gpg --dearmour -o /usr/share/keyrings/debian-buster.gpg\n",
        "apt-key export 22F3D138 | gpg --dearmour -o /usr/share/keyrings/debian-buster-updates.gpg\n",
        "apt-key export E562B32A | gpg --dearmour -o /usr/share/keyrings/debian-security-buster.gpg\n",
        "\n",
        "# Prefer debian repo for chromium* packages only\n",
        "# Note the double-blank lines between entries\n",
        "cat > /etc/apt/preferences.d/chromium.pref << 'EOF'\n",
        "Package: *\n",
        "Pin: release a=eoan\n",
        "Pin-Priority: 500\n",
        "\n",
        "\n",
        "Package: *\n",
        "Pin: origin \"deb.debian.org\"\n",
        "Pin-Priority: 300\n",
        "\n",
        "\n",
        "Package: chromium*\n",
        "Pin: origin \"deb.debian.org\"\n",
        "Pin-Priority: 700\n",
        "EOF"
      ]
    },
    {
      "cell_type": "code",
      "execution_count": 27,
      "metadata": {
        "id": "lFqNwSPVxa0f",
        "colab": {
          "base_uri": "https://localhost:8080/"
        },
        "outputId": "94a5d3e3-3c73-412a-d6f4-3761d98b82f1"
      },
      "outputs": [
        {
          "output_type": "stream",
          "name": "stdout",
          "text": [
            "Hit:1 http://deb.debian.org/debian buster InRelease\n",
            "Hit:2 http://archive.ubuntu.com/ubuntu jammy InRelease\n",
            "Hit:3 http://archive.ubuntu.com/ubuntu jammy-updates InRelease\n",
            "Hit:4 https://cloud.r-project.org/bin/linux/ubuntu jammy-cran40/ InRelease\n",
            "Hit:5 http://deb.debian.org/debian buster-updates InRelease\n",
            "Hit:6 http://deb.debian.org/debian-security buster/updates InRelease\n",
            "Hit:7 http://archive.ubuntu.com/ubuntu jammy-backports InRelease\n",
            "Hit:8 https://developer.download.nvidia.com/compute/cuda/repos/ubuntu2204/x86_64  InRelease\n",
            "Hit:9 http://security.ubuntu.com/ubuntu jammy-security InRelease\n",
            "Get:10 https://ppa.launchpadcontent.net/c2d4u.team/c2d4u4.0+/ubuntu jammy InRelease [18.1 kB]\n",
            "Hit:11 https://ppa.launchpadcontent.net/deadsnakes/ppa/ubuntu jammy InRelease\n",
            "Hit:12 https://ppa.launchpadcontent.net/graphics-drivers/ppa/ubuntu jammy InRelease\n",
            "Hit:13 https://ppa.launchpadcontent.net/ubuntugis/ppa/ubuntu jammy InRelease\n",
            "Get:14 https://ppa.launchpadcontent.net/c2d4u.team/c2d4u4.0+/ubuntu jammy/main amd64 Packages [1,161 kB]\n",
            "Fetched 1,179 kB in 4s (291 kB/s)\n",
            "Reading package lists... Done\n",
            "Reading package lists... Done\n",
            "Building dependency tree... Done\n",
            "Reading state information... Done\n",
            "chromium is already the newest version (90.0.4430.212-1~deb10u1).\n",
            "chromium-driver is already the newest version (90.0.4430.212-1~deb10u1).\n",
            "0 upgraded, 0 newly installed, 0 to remove and 38 not upgraded.\n"
          ]
        }
      ],
      "source": [
        "!apt-get update\n",
        "!apt-get install chromium chromium-driver"
      ]
    },
    {
      "cell_type": "code",
      "execution_count": 28,
      "metadata": {
        "id": "B__cpEmVSHpl",
        "colab": {
          "base_uri": "https://localhost:8080/"
        },
        "outputId": "2b216da8-e603-4bf7-fe91-9fd1ce060aee"
      },
      "outputs": [
        {
          "output_type": "stream",
          "name": "stdout",
          "text": [
            "Requirement already satisfied: Selenium==4.9.0 in /usr/local/lib/python3.10/dist-packages (4.9.0)\n",
            "Requirement already satisfied: urllib3[socks]~=1.26 in /usr/local/lib/python3.10/dist-packages (from Selenium==4.9.0) (1.26.18)\n",
            "Requirement already satisfied: trio~=0.17 in /usr/local/lib/python3.10/dist-packages (from Selenium==4.9.0) (0.24.0)\n",
            "Requirement already satisfied: trio-websocket~=0.9 in /usr/local/lib/python3.10/dist-packages (from Selenium==4.9.0) (0.11.1)\n",
            "Requirement already satisfied: certifi>=2021.10.8 in /usr/local/lib/python3.10/dist-packages (from Selenium==4.9.0) (2023.11.17)\n",
            "Requirement already satisfied: attrs>=20.1.0 in /usr/local/lib/python3.10/dist-packages (from trio~=0.17->Selenium==4.9.0) (23.2.0)\n",
            "Requirement already satisfied: sortedcontainers in /usr/local/lib/python3.10/dist-packages (from trio~=0.17->Selenium==4.9.0) (2.4.0)\n",
            "Requirement already satisfied: idna in /usr/local/lib/python3.10/dist-packages (from trio~=0.17->Selenium==4.9.0) (3.6)\n",
            "Requirement already satisfied: outcome in /usr/local/lib/python3.10/dist-packages (from trio~=0.17->Selenium==4.9.0) (1.3.0.post0)\n",
            "Requirement already satisfied: sniffio>=1.3.0 in /usr/local/lib/python3.10/dist-packages (from trio~=0.17->Selenium==4.9.0) (1.3.0)\n",
            "Requirement already satisfied: exceptiongroup in /usr/local/lib/python3.10/dist-packages (from trio~=0.17->Selenium==4.9.0) (1.2.0)\n",
            "Requirement already satisfied: wsproto>=0.14 in /usr/local/lib/python3.10/dist-packages (from trio-websocket~=0.9->Selenium==4.9.0) (1.2.0)\n",
            "Requirement already satisfied: PySocks!=1.5.7,<2.0,>=1.5.6 in /usr/local/lib/python3.10/dist-packages (from urllib3[socks]~=1.26->Selenium==4.9.0) (1.7.1)\n",
            "Requirement already satisfied: h11<1,>=0.9.0 in /usr/local/lib/python3.10/dist-packages (from wsproto>=0.14->trio-websocket~=0.9->Selenium==4.9.0) (0.14.0)\n"
          ]
        }
      ],
      "source": [
        "!pip install Selenium==4.9.0"
      ]
    },
    {
      "cell_type": "code",
      "execution_count": 29,
      "metadata": {
        "id": "UOIVX0l6xeoT"
      },
      "outputs": [],
      "source": [
        "from selenium import webdriver\n",
        "from selenium.webdriver.common.by import By\n",
        "from selenium.webdriver.support.select import Select\n",
        "\n",
        "# from selenium.common.exceptions import NoSuchElementException\n",
        "from selenium.webdriver.support.ui import WebDriverWait\n",
        "from selenium.webdriver.support import expected_conditions as EC\n",
        "\n",
        "# from selenium.common.exceptions import ElementClickInterceptedException\n",
        "\n",
        "from time import sleep\n",
        "\n",
        "import numpy as np"
      ]
    },
    {
      "cell_type": "code",
      "execution_count": 30,
      "metadata": {
        "id": "5GL_ml8CxgE7"
      },
      "outputs": [],
      "source": [
        "def web_driver():\n",
        "    options = webdriver.ChromeOptions()\n",
        "    options.add_argument(\"--verbose\")\n",
        "    options.add_argument('--no-sandbox') # needed, because colab runs as root\n",
        "    options.add_argument('--headless')  # or use pyvirtualdiplay\n",
        "    options.add_argument('--disable-gpu')\n",
        "    options.add_argument(\"--window-size=1920, 1200\")\n",
        "    options.add_argument('--disable-dev-shm-usage')\n",
        "    driver = webdriver.Chrome(options=options)\n",
        "    return driver\n",
        "\n",
        "driver = web_driver()"
      ]
    },
    {
      "cell_type": "code",
      "source": [
        "from selenium.webdriver.common.by import By\n",
        "from selenium.webdriver.support.ui import WebDriverWait\n",
        "from selenium.webdriver.support import expected_conditions as EC\n",
        "import time\n",
        "import re\n",
        "from bs4 import BeautifulSoup\n",
        "import json\n",
        "\n",
        "def euipo(codi):\n",
        "\n",
        "  url = \"https://euipo.europa.eu/eSearch/#details/trademarks/\" +codi.lstrip('0').zfill(9)\n",
        "\n",
        "  driver.get(url)\n",
        "\n",
        "  #while True:\n",
        "  while True:\n",
        "      try:\n",
        "          # Espera fins que l'element amb la classe \"box-content detailsBoxBody\" estigui present\n",
        "          element = WebDriverWait(driver, 10).until(\n",
        "              EC.presence_of_element_located((By.CLASS_NAME, \"box-content detailsBoxBody\"))\n",
        "          )\n",
        "\n",
        "          # Aquí pots continuar amb la lògica després que l'element estigui present\n",
        "          print(\"Element carregat:\", element.text)\n",
        "\n",
        "      except:\n",
        "          break\n",
        "\n",
        "  data_dict = {}\n",
        "\n",
        "  # Assumim que ja tens el codi HTML emmagatzemat a la variable 'web'\n",
        "  html_content = driver.page_source\n",
        "\n",
        "  # Parseja l'HTML amb BeautifulSoup\n",
        "  soup = BeautifulSoup(html_content, 'html.parser')\n",
        "\n",
        "  # Obté els elements dl-horizontal i converteix-los en un diccionari\n",
        "  dl_elements = soup.find_all('dl', class_='dl-horizontal dl-divided')\n",
        "\n",
        "  # Itera a través dels elements dl\n",
        "  for dl_index, dl_element in enumerate(dl_elements):\n",
        "      dt_elements = dl_element.find_all('dt')\n",
        "      dd_elements = dl_element.find_all('dd')\n",
        "\n",
        "      # Itera a través dels elements dt i dd i emmagatzema la informació al diccionari\n",
        "      for dt_index, (dt, dd) in enumerate(zip(dt_elements, dd_elements)):\n",
        "          field_name = f\"{dt.text.strip()}_{dl_index}_{dt_index}\"\n",
        "          data_dict[field_name] = dd.text.strip()\n",
        "\n",
        "  # Verifica si 'Filing number_0_1' està al diccionari\n",
        "  if 'Filing number_0_1' not in data_dict:\n",
        "      # Si no està present, crea la clau amb el valor \"codi\"\n",
        "      data_dict['Filing number_0_1'] = codi.lstrip('0').zfill(9)\n",
        "\n",
        "  # Elimina els caràcters '\\n' i els espais múltiples del diccionari\n",
        "  cleaned_data_dict = {key: re.sub(r'\\s+', ' ', value.replace('\\n', '').strip()) for key, value in data_dict.items()}\n",
        "\n",
        "  try:\n",
        "    # Obté l'atribut 'src' de la etiqueta <img> dins de la classe 'detailsTrademarkImage'\n",
        "    img_tag = soup.find('p', class_='detailsTrademarkImage').find('img')\n",
        "    img_src = img_tag['src'] if img_tag else None\n",
        "\n",
        "    # Construeix la URL completa\n",
        "    full_url = f\"https://euipo.europa.eu{img_src}\" if img_src else None  # Canvia 'https://example.com' per la teva URL base\n",
        "  except:\n",
        "    full_url = \"\"\n",
        "\n",
        "  # Imprimeix el JSON netejat\n",
        "  return cleaned_data_dict, full_url"
      ],
      "metadata": {
        "id": "3UqrU8g28pAe"
      },
      "execution_count": 31,
      "outputs": []
    },
    {
      "cell_type": "code",
      "source": [
        "# Exemple d'ús\n",
        "\n",
        "# print(euipo(\"12235065\"))"
      ],
      "metadata": {
        "id": "XpZuDZCf_PnH"
      },
      "execution_count": 32,
      "outputs": []
    },
    {
      "cell_type": "code",
      "source": [
        "json_final = {\"euipo\": []}\n",
        "imatges = []\n",
        "l = len(df_filtrat)\n",
        "i = 1\n",
        "\n",
        "# Itera a través de la columna \"Codi registre\" i obté la primera fila\n",
        "for x in df_filtrat[\"Codi registre\"]:\n",
        "  print(i, \"de\", l)\n",
        "  resultat_iteracio, url = euipo(x)\n",
        "  json_final[\"euipo\"].append(resultat_iteracio)\n",
        "  imatges.append([x, url])\n",
        "  i += 1\n",
        "\n",
        "# Mostra el JSON final\n",
        "print(json_final)\n",
        "print(imatges)"
      ],
      "metadata": {
        "id": "XZZYEBbWKDyb",
        "colab": {
          "base_uri": "https://localhost:8080/"
        },
        "outputId": "0e164dc1-0d4d-42ff-be72-ab06567588eb"
      },
      "execution_count": null,
      "outputs": [
        {
          "output_type": "stream",
          "name": "stdout",
          "text": [
            "1 de 103\n",
            "2 de 103\n",
            "3 de 103\n",
            "4 de 103\n",
            "5 de 103\n",
            "6 de 103\n",
            "7 de 103\n",
            "8 de 103\n",
            "9 de 103\n",
            "10 de 103\n",
            "11 de 103\n",
            "12 de 103\n",
            "13 de 103\n",
            "14 de 103\n",
            "15 de 103\n",
            "16 de 103\n",
            "17 de 103\n",
            "18 de 103\n",
            "19 de 103\n",
            "20 de 103\n",
            "21 de 103\n",
            "22 de 103\n",
            "23 de 103\n",
            "24 de 103\n",
            "25 de 103\n",
            "26 de 103\n",
            "27 de 103\n",
            "28 de 103\n",
            "29 de 103\n",
            "30 de 103\n",
            "31 de 103\n",
            "32 de 103\n",
            "33 de 103\n",
            "34 de 103\n",
            "35 de 103\n",
            "36 de 103\n",
            "37 de 103\n",
            "38 de 103\n",
            "39 de 103\n",
            "40 de 103\n"
          ]
        }
      ]
    },
    {
      "cell_type": "code",
      "source": [
        "euipo_final = pd.DataFrame.from_dict(json_final[\"euipo\"], orient='columns')\n",
        "euipo_final"
      ],
      "metadata": {
        "id": "t_gkACvMMdU2"
      },
      "execution_count": null,
      "outputs": []
    },
    {
      "cell_type": "code",
      "source": [
        "imatges = pd.DataFrame(imatges)\n",
        "imatges"
      ],
      "metadata": {
        "id": "hkktg_cLa4Rf"
      },
      "execution_count": null,
      "outputs": []
    },
    {
      "cell_type": "code",
      "execution_count": null,
      "metadata": {
        "id": "EUS69pfsb7IK"
      },
      "outputs": [],
      "source": [
        "import datetime\n",
        "\n",
        "avui = datetime.datetime.now()\n",
        "avui = str(avui).split(\" \")[0].replace(\"-\", \"\")"
      ]
    },
    {
      "cell_type": "code",
      "execution_count": null,
      "metadata": {
        "id": "YO2sNMDAHRDD"
      },
      "outputs": [],
      "source": [
        "import pandas as pd\n",
        "import xlsxwriter\n",
        "import datetime\n",
        "from google.colab import files\n",
        "\n",
        "avui = datetime.datetime.now()\n",
        "avui = str(avui).split(\" \")[0].replace(\"-\", \"\")\n",
        "\n",
        "# Crear l'arxiu d'Excel i afegir-hi les tres taules en pestanyes diferents\n",
        "with pd.ExcelWriter(avui+\"_euipo_marques.xlsx\", engine='xlsxwriter') as writer:\n",
        "    euipo_final.to_excel(writer, sheet_name='Marques', index=False)\n",
        "    imatges.to_excel(writer, sheet_name='Imatges', index=False)\n",
        "\n",
        "files.download(avui+\"_euipo_marques.xlsx\")"
      ]
    },
    {
      "cell_type": "code",
      "source": [
        "'''\n",
        "codi = \"12235065\"\n",
        "\n",
        "url = \"https://euipo.europa.eu/eSearch/#details/trademarks/\" +codi.lstrip('0').zfill(9)\n",
        "\n",
        "driver.get(url)\n",
        "\n",
        "#while True:\n",
        "while True:\n",
        "    try:\n",
        "        # Espera fins que l'element amb la classe \"box-content detailsBoxBody\" estigui present\n",
        "        element = WebDriverWait(driver, 10).until(\n",
        "            EC.presence_of_element_located((By.CLASS_NAME, \"box-content detailsBoxBody\"))\n",
        "        )\n",
        "\n",
        "        # Aquí pots continuar amb la lògica després que l'element estigui present\n",
        "        print(\"Element carregat:\", element.text)\n",
        "\n",
        "    except:\n",
        "        break\n",
        "\n",
        "# Assumim que ja tens el codi HTML emmagatzemat a la variable 'web'\n",
        "html_content = driver.page_source\n",
        "\n",
        "# Parseja l'HTML amb BeautifulSoup\n",
        "soup = BeautifulSoup(html_content, 'html.parser')\n",
        "\n",
        "# Assumim que ja tens el codi HTML emmagatzemat a la variable 'web'\n",
        "html_content = driver.page_source\n",
        "\n",
        "# Parseja l'HTML amb BeautifulSoup\n",
        "soup = BeautifulSoup(html_content, 'html.parser')\n",
        "\n",
        "# Obté els elements dl-horizontal i converteix-los en un diccionari\n",
        "data_dict = {}\n",
        "dl_elements = soup.find_all('dl', class_='dl-horizontal dl-divided')\n",
        "\n",
        "# Itera a través dels elements dl\n",
        "for dl_index, dl_element in enumerate(dl_elements):\n",
        "    dt_elements = dl_element.find_all('dt')\n",
        "    dd_elements = dl_element.find_all('dd')\n",
        "\n",
        "    # Itera a través dels elements dt i dd i emmagatzema la informació al diccionari\n",
        "    for dt_index, (dt, dd) in enumerate(zip(dt_elements, dd_elements)):\n",
        "        field_name = f\"{dt.text.strip()}_{dl_index}_{dt_index}\"\n",
        "        data_dict[field_name] = dd.text.strip()\n",
        "\n",
        "# Elimina els caràcters '\\n' i els espais múltiples del diccionari\n",
        "cleaned_data_dict = {key: re.sub(r'\\s+', ' ', value.replace('\\n', '').strip()) for key, value in data_dict.items()}\n",
        "\n",
        "# Mostra el diccionari amb les dades extretes\n",
        "print(cleaned_data_dict)\n",
        "'''"
      ],
      "metadata": {
        "id": "6tIn9rYvbYwe"
      },
      "execution_count": null,
      "outputs": []
    },
    {
      "cell_type": "code",
      "source": [],
      "metadata": {
        "id": "LWe1nU6Ef8ZE"
      },
      "execution_count": null,
      "outputs": []
    }
  ],
  "metadata": {
    "colab": {
      "provenance": []
    },
    "kernelspec": {
      "display_name": "Python 3",
      "name": "python3"
    },
    "language_info": {
      "name": "python"
    }
  },
  "nbformat": 4,
  "nbformat_minor": 0
}